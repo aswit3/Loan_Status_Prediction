{
  "nbformat": 4,
  "nbformat_minor": 0,
  "metadata": {
    "colab": {
      "name": "Loan_status_prediction_v2.ipynb",
      "provenance": [],
      "private_outputs": true,
      "collapsed_sections": []
    },
    "kernelspec": {
      "name": "python3",
      "display_name": "Python 3"
    }
  },
  "cells": [
    {
      "cell_type": "code",
      "metadata": {
        "id": "NLS4t-50_sMj",
        "colab_type": "code",
        "colab": {}
      },
      "source": [
        "import pandas as pd\n",
        "import matplotlib.pyplot as plt\n",
        "import seaborn as sns\n",
        "import numpy as np"
      ],
      "execution_count": null,
      "outputs": []
    },
    {
      "cell_type": "code",
      "metadata": {
        "id": "Ydr_128DAEk9",
        "colab_type": "code",
        "colab": {}
      },
      "source": [
        "cd /content/drive/My Drive/Interview_Tasks/ML_Task"
      ],
      "execution_count": null,
      "outputs": []
    },
    {
      "cell_type": "code",
      "metadata": {
        "id": "5rDKquJL_2VT",
        "colab_type": "code",
        "colab": {}
      },
      "source": [
        "df_train = pd.read_csv(\"ML_Artivatic_dataset/train_indessa.csv\")\n",
        "df_test = pd.read_csv(\"ML_Artivatic_dataset/test_indessa.csv\")"
      ],
      "execution_count": null,
      "outputs": []
    },
    {
      "cell_type": "code",
      "metadata": {
        "id": "A7D1gsuyCkIL",
        "colab_type": "code",
        "colab": {}
      },
      "source": [
        "def missing_values_table(df):\n",
        "  # Total missing values\n",
        "  mis_val = df.isnull().sum()\n",
        "\n",
        "  # Percentage of missing values\n",
        "  mis_val_percent = 100 * df.isnull().sum() / len(df)\n",
        "\n",
        "  # Make a table with the results\n",
        "  mis_val_table = pd.concat([mis_val, mis_val_percent], axis=1)\n",
        "\n",
        "  # Rename the columns\n",
        "  mis_val_table_ren_columns = mis_val_table.rename(\n",
        "  columns = {0 : 'Missing Values', 1 : '% of Total Values'})\n",
        "\n",
        "  # Sort the table by percentage of missing descending\n",
        "  mis_val_table_ren_columns = mis_val_table_ren_columns[\n",
        "      mis_val_table_ren_columns.iloc[:,1] != 0].sort_values(\n",
        "  '% of Total Values', ascending=False).round(1)\n",
        "\n",
        "  # Print some summary information\n",
        "  print (\"Your selected dataframe has \" + str(df.shape[1]) + \" columns.\\n\"      \n",
        "      \"There are \" + str(mis_val_table_ren_columns.shape[0]) +\n",
        "        \" columns that have missing values.\")\n",
        "\n",
        "  # Return the dataframe with missing information\n",
        "  return mis_val_table_ren_columns"
      ],
      "execution_count": null,
      "outputs": []
    },
    {
      "cell_type": "code",
      "metadata": {
        "id": "elGTOg5SC31P",
        "colab_type": "code",
        "colab": {}
      },
      "source": [
        "missing_values_table(df_train)"
      ],
      "execution_count": null,
      "outputs": []
    },
    {
      "cell_type": "code",
      "metadata": {
        "id": "ooEokHDvDGxu",
        "colab_type": "code",
        "colab": {}
      },
      "source": [
        "missing_values_table(df_test)"
      ],
      "execution_count": null,
      "outputs": []
    },
    {
      "cell_type": "code",
      "metadata": {
        "id": "adX56dY5_tfj",
        "colab_type": "code",
        "colab": {}
      },
      "source": [
        "dfTrain = df_train[['member_id', 'loan_amnt', 'funded_amnt', 'addr_state', 'funded_amnt_inv', 'sub_grade', 'term', 'emp_length', 'int_rate', 'annual_inc', 'dti', 'delinq_2yrs', 'inq_last_6mths', 'mths_since_last_delinq', 'mths_since_last_record', 'open_acc', 'pub_rec', 'revol_bal', 'revol_util', 'total_acc', 'total_rec_int', 'total_rec_late_fee', 'recoveries', 'collection_recovery_fee', 'collections_12_mths_ex_med', 'mths_since_last_major_derog', 'last_week_pay', 'acc_now_delinq', 'tot_coll_amt', 'tot_cur_bal', 'total_rev_hi_lim', 'loan_status']]\n",
        "dfTest = df_test[['member_id', 'loan_amnt', 'funded_amnt', 'addr_state', 'funded_amnt_inv', 'sub_grade', 'term', 'emp_length', 'int_rate', 'annual_inc', 'dti', 'delinq_2yrs', 'inq_last_6mths', 'mths_since_last_delinq', 'mths_since_last_record', 'open_acc', 'pub_rec', 'revol_bal', 'revol_util', 'total_acc', 'total_rec_int', 'total_rec_late_fee', 'recoveries', 'collection_recovery_fee', 'collections_12_mths_ex_med', 'mths_since_last_major_derog', 'last_week_pay', 'acc_now_delinq', 'tot_coll_amt', 'tot_cur_bal', 'total_rev_hi_lim']]"
      ],
      "execution_count": null,
      "outputs": []
    },
    {
      "cell_type": "code",
      "metadata": {
        "id": "FGFHyzgDA0NZ",
        "colab_type": "code",
        "colab": {}
      },
      "source": [
        "dfTrain.head(3)"
      ],
      "execution_count": null,
      "outputs": []
    },
    {
      "cell_type": "code",
      "metadata": {
        "id": "MQwer_BMBsVE",
        "colab_type": "code",
        "colab": {}
      },
      "source": [
        "dfTrain['term'].head(3)"
      ],
      "execution_count": null,
      "outputs": []
    },
    {
      "cell_type": "code",
      "metadata": {
        "id": "6XhKoT_VAcai",
        "colab_type": "code",
        "colab": {}
      },
      "source": [
        "dfTrain['term'].replace(to_replace=' months', value='', regex=True, inplace=True)\n",
        "dfTest['term'].replace(to_replace=' months', value='', regex=True, inplace=True)\n",
        "dfTrain['term'] = pd.to_numeric(dfTrain['term'], errors='coerce')\n",
        "dfTest['term'] = pd.to_numeric(dfTest['term'], errors='coerce')"
      ],
      "execution_count": null,
      "outputs": []
    },
    {
      "cell_type": "code",
      "metadata": {
        "id": "y04eWJbvBwej",
        "colab_type": "code",
        "colab": {}
      },
      "source": [
        "dfTrain['emp_length'].head(3)"
      ],
      "execution_count": null,
      "outputs": []
    },
    {
      "cell_type": "code",
      "metadata": {
        "id": "ppz6cXREA9yC",
        "colab_type": "code",
        "colab": {}
      },
      "source": [
        "dfTrain['emp_length'].replace('n/a', '0', inplace=True)\n",
        "dfTrain['emp_length'].replace(to_replace='\\+ years', value='', regex=True, inplace=True)\n",
        "dfTrain['emp_length'].replace(to_replace=' years', value='', regex=True, inplace=True)\n",
        "dfTrain['emp_length'].replace(to_replace='< 1 year', value='0', regex=True, inplace=True)\n",
        "dfTrain['emp_length'].replace(to_replace=' year', value='', regex=True, inplace=True)\n",
        "dfTest['emp_length'].replace('n/a', '0', inplace=True)\n",
        "dfTest['emp_length'].replace(to_replace='\\+ years', value='', regex=True, inplace=True)\n",
        "dfTest['emp_length'].replace(to_replace=' years', value='', regex=True, inplace=True)\n",
        "dfTest['emp_length'].replace(to_replace='< 1 year', value='0', regex=True, inplace=True)\n",
        "dfTest['emp_length'].replace(to_replace=' year', value='', regex=True, inplace=True)\n",
        "dfTrain['emp_length'] = pd.to_numeric(dfTrain['emp_length'], errors='coerce')\n",
        "dfTest['emp_length'] = pd.to_numeric(dfTest['emp_length'], errors='coerce')"
      ],
      "execution_count": null,
      "outputs": []
    },
    {
      "cell_type": "code",
      "metadata": {
        "id": "CLGUpdvHBhoL",
        "colab_type": "code",
        "colab": {}
      },
      "source": [
        "dfTrain['last_week_pay'].head(3)"
      ],
      "execution_count": null,
      "outputs": []
    },
    {
      "cell_type": "code",
      "metadata": {
        "id": "Xmp420gUBQUy",
        "colab_type": "code",
        "colab": {}
      },
      "source": [
        "dfTrain['last_week_pay'].replace(to_replace='th week', value='', regex=True, inplace=True)\n",
        "dfTest['last_week_pay'].replace(to_replace='th week', value='', regex=True, inplace=True)\n",
        "dfTrain['last_week_pay'].replace(to_replace='NA', value='', regex=True, inplace=True)\n",
        "dfTest['last_week_pay'].replace(to_replace='NA', value='', regex=True, inplace=True)\n",
        "dfTrain['last_week_pay'] = pd.to_numeric(dfTrain['last_week_pay'], errors='coerce')\n",
        "dfTest['last_week_pay'] = pd.to_numeric(dfTest['last_week_pay'], errors='coerce')"
      ],
      "execution_count": null,
      "outputs": []
    },
    {
      "cell_type": "code",
      "metadata": {
        "id": "ypbFXE9MCDLT",
        "colab_type": "code",
        "colab": {}
      },
      "source": [
        "dfTrain['sub_grade'].head(3)"
      ],
      "execution_count": null,
      "outputs": []
    },
    {
      "cell_type": "code",
      "metadata": {
        "id": "2oc9VmUhB2po",
        "colab_type": "code",
        "colab": {}
      },
      "source": [
        "dfTrain['sub_grade'].replace(to_replace='A', value='0', regex=True, inplace=True)\n",
        "dfTrain['sub_grade'].replace(to_replace='B', value='1', regex=True, inplace=True)\n",
        "dfTrain['sub_grade'].replace(to_replace='C', value='2', regex=True, inplace=True)\n",
        "dfTrain['sub_grade'].replace(to_replace='D', value='3', regex=True, inplace=True)\n",
        "dfTrain['sub_grade'].replace(to_replace='E', value='4', regex=True, inplace=True)\n",
        "dfTrain['sub_grade'].replace(to_replace='F', value='5', regex=True, inplace=True)\n",
        "dfTrain['sub_grade'].replace(to_replace='G', value='6', regex=True, inplace=True)\n",
        "dfTest['sub_grade'].replace(to_replace='A', value='0', regex=True, inplace=True)\n",
        "dfTest['sub_grade'].replace(to_replace='B', value='1', regex=True, inplace=True)\n",
        "dfTest['sub_grade'].replace(to_replace='C', value='2', regex=True, inplace=True)\n",
        "dfTest['sub_grade'].replace(to_replace='D', value='3', regex=True, inplace=True)\n",
        "dfTest['sub_grade'].replace(to_replace='E', value='4', regex=True, inplace=True)\n",
        "dfTest['sub_grade'].replace(to_replace='F', value='5', regex=True, inplace=True)\n",
        "dfTest['sub_grade'].replace(to_replace='G', value='6', regex=True, inplace=True)\n",
        "dfTrain['sub_grade'] = pd.to_numeric(dfTrain['sub_grade'], errors='coerce')\n",
        "dfTest['sub_grade'] = pd.to_numeric(dfTest['sub_grade'], errors='coerce')"
      ],
      "execution_count": null,
      "outputs": []
    },
    {
      "cell_type": "code",
      "metadata": {
        "id": "dq7_ps3gCVCa",
        "colab_type": "code",
        "colab": {}
      },
      "source": [
        "from sklearn.base import TransformerMixin\n",
        "\n",
        "class DataFrameImputer(TransformerMixin):\n",
        "\n",
        "    def __init__(self):\n",
        "        \"\"\"Impute missing values.\n",
        "\n",
        "        Columns of dtype object are imputed with the most frequent value \n",
        "        in column.\n",
        "\n",
        "        Columns of other types are imputed with mean of column.\n",
        "\n",
        "        \"\"\"\n",
        "    def fit(self, X, y=None):\n",
        "\n",
        "        self.fill = pd.Series([X[c].value_counts().index[0]\n",
        "            if X[c].dtype == np.dtype('O') else X[c].median() for c in X],\n",
        "            index=X.columns)\n",
        "\n",
        "        return self\n",
        "\n",
        "    def transform(self, X, y=None):\n",
        "        return X.fillna(self.fill)"
      ],
      "execution_count": null,
      "outputs": []
    },
    {
      "cell_type": "code",
      "metadata": {
        "id": "LxE1-BfeIH1i",
        "colab_type": "code",
        "colab": {}
      },
      "source": [
        "def missing_value_replace(df, continuous, category):\n",
        "    null_columns_df=df.columns[df.isnull().any()]\n",
        "    null_columns = null_columns_df.values.tolist()\n",
        "\n",
        "    for nc in null_columns:\n",
        "        if nc in set(category) or nc in set(date_columns):\n",
        "            df[nc] = df[nc].fillna(df[nc].value_counts().idxmax(), inplace=True)\n",
        "        elif nc in set(continuous):\n",
        "            df[nc] = df[nc].fillna(df[nc].meadian())\n",
        "    print(\"step 1 completed. Missing values\")\n",
        "    return df"
      ],
      "execution_count": null,
      "outputs": []
    },
    {
      "cell_type": "code",
      "metadata": {
        "id": "05S3bIt4FIbW",
        "colab_type": "code",
        "colab": {}
      },
      "source": [
        "dfTrain = DataFrameImputer().fit_transform(dfTrain)\n",
        "dfTest = DataFrameImputer().fit_transform(dfTest)"
      ],
      "execution_count": null,
      "outputs": []
    },
    {
      "cell_type": "code",
      "metadata": {
        "id": "A7AS7ZxPHVN1",
        "colab_type": "code",
        "colab": {}
      },
      "source": [
        "dfTrain.head(3)"
      ],
      "execution_count": null,
      "outputs": []
    },
    {
      "cell_type": "code",
      "metadata": {
        "id": "tTkWIDZYI9-H",
        "colab_type": "code",
        "colab": {}
      },
      "source": [
        "from sklearn import preprocessing\n",
        "\n",
        "def Label_encoding(df, category):\n",
        "    for col in category:\n",
        "        le = preprocessing.LabelEncoder()\n",
        "        df[col] = le.fit_transform(df[col])\n",
        "    return df"
      ],
      "execution_count": null,
      "outputs": []
    },
    {
      "cell_type": "code",
      "metadata": {
        "id": "wxpjVgu6JF-D",
        "colab_type": "code",
        "colab": {}
      },
      "source": [
        "category = []\n",
        "continuous = []\n",
        "for col in list(dfTrain.columns):\n",
        "    if pd.api.types.is_numeric_dtype(dfTrain[col]):\n",
        "        continuous.append(col)\n",
        "    elif dfTrain[col].dtype == \"object\":\n",
        "        category.append(col)"
      ],
      "execution_count": null,
      "outputs": []
    },
    {
      "cell_type": "code",
      "metadata": {
        "id": "sJ7oRsdYJEpZ",
        "colab_type": "code",
        "colab": {}
      },
      "source": [
        "dfTrain = Label_encoding(dfTrain, category)"
      ],
      "execution_count": null,
      "outputs": []
    },
    {
      "cell_type": "code",
      "metadata": {
        "id": "War_M0Y1GR8X",
        "colab_type": "code",
        "colab": {}
      },
      "source": [
        "from sklearn.ensemble import ExtraTreesClassifier\n",
        "import matplotlib.pyplot as plt\n",
        "\n",
        "X = dfTrain.loc[:, :\"loan_status\"]\n",
        "y = dfTrain[\"loan_status\"]\n",
        "\n",
        "model = ExtraTreesClassifier()\n",
        "model.fit(X,y)\n",
        "print(model.feature_importances_) \n",
        "\n",
        "feat_importances = pd.Series(model.feature_importances_, index=X.columns)\n",
        "feat_importances.nlargest(10).plot(kind='barh')\n",
        "plt.show()"
      ],
      "execution_count": null,
      "outputs": []
    },
    {
      "cell_type": "code",
      "metadata": {
        "id": "jjQGy7YhJzhI",
        "colab_type": "code",
        "colab": {}
      },
      "source": [
        "feat_importances"
      ],
      "execution_count": null,
      "outputs": []
    },
    {
      "cell_type": "code",
      "metadata": {
        "id": "C46SZghwJ3ym",
        "colab_type": "code",
        "colab": {}
      },
      "source": [
        "len(feat_importances)"
      ],
      "execution_count": null,
      "outputs": []
    },
    {
      "cell_type": "code",
      "metadata": {
        "id": "Ul1ygt44FaKv",
        "colab_type": "code",
        "colab": {}
      },
      "source": [
        "selected_cols = ['member_id', 'emp_length', 'loan_amnt', 'funded_amnt', 'funded_amnt_inv', 'sub_grade', 'int_rate', 'annual_inc', 'dti', 'mths_since_last_delinq', 'mths_since_last_record', 'open_acc', 'revol_bal', 'revol_util', 'total_acc', 'total_rec_int', 'total_rec_late_fee', 'mths_since_last_major_derog', 'last_week_pay', 'tot_cur_bal', 'total_rev_hi_lim', 'tot_coll_amt', 'recoveries', 'collection_recovery_fee', 'term', 'acc_now_delinq', 'collections_12_mths_ex_med']\n",
        "len(selected_cols)"
      ],
      "execution_count": null,
      "outputs": []
    },
    {
      "cell_type": "code",
      "metadata": {
        "id": "UL5X7YXZKDKV",
        "colab_type": "code",
        "colab": {}
      },
      "source": [
        "finalTrain = dfTrain[selected_cols]\n",
        "finalTest = dfTest[selected_cols]"
      ],
      "execution_count": null,
      "outputs": []
    },
    {
      "cell_type": "code",
      "metadata": {
        "id": "ezxZAmfpKID9",
        "colab_type": "code",
        "colab": {}
      },
      "source": [
        "# How big the loan a person has taken with respect to his earnings, annual income to loan amount ratio\n",
        "finalTrain['loan_to_income'] = finalTrain['annual_inc']/finalTrain['funded_amnt_inv']\n",
        "finalTest['loan_to_income'] = finalTest['annual_inc']/finalTest['funded_amnt_inv']"
      ],
      "execution_count": null,
      "outputs": []
    },
    {
      "cell_type": "code",
      "metadata": {
        "id": "mKtiRbtfKX0X",
        "colab_type": "code",
        "colab": {}
      },
      "source": [
        "# All these attributes indicate that the repayment was not all hunky-dory. All the amounts caclulated are ratios \n",
        "# like, recovery to the loan amount. This column gives a magnitude of how much the repayment has gone off course \n",
        "# in terms of ratios.\n",
        "finalTrain['bad_state'] = finalTrain['acc_now_delinq'] + (finalTrain['total_rec_late_fee']/finalTrain['funded_amnt_inv']) + (finalTrain['recoveries']/finalTrain['funded_amnt_inv']) + (finalTrain['collection_recovery_fee']/finalTrain['funded_amnt_inv']) + (finalTrain['collections_12_mths_ex_med']/finalTrain['funded_amnt_inv'])\n",
        "finalTest['bad_state'] = finalTest['acc_now_delinq'] + (finalTest['total_rec_late_fee']/finalTest['funded_amnt_inv']) + (finalTest['recoveries']/finalTest['funded_amnt_inv']) + (finalTest['collection_recovery_fee']/finalTest['funded_amnt_inv']) + (finalTrain['collections_12_mths_ex_med']/finalTest['funded_amnt_inv'])\n",
        "\n",
        "# For the sake of this model, I have used just a boolean flag if things had gone bad, with this case I didn't see\n",
        "# a benifit of including above computations\n",
        "finalTrain.loc[finalTrain['bad_state'] > 0, 'bad_state'] = 1\n",
        "finalTest.loc[finalTest['bad_state'] > 0, 'bad_state'] = 1"
      ],
      "execution_count": null,
      "outputs": []
    },
    {
      "cell_type": "code",
      "metadata": {
        "id": "WyYFcMFcFtk-",
        "colab_type": "code",
        "colab": {}
      },
      "source": [
        "# Total number of available/unused 'credit lines'\n",
        "finalTrain['avl_lines'] = finalTrain['total_acc'] - finalTrain['open_acc']\n",
        "finalTest['avl_lines'] = finalTest['total_acc'] - finalTest['open_acc']\n",
        "\n",
        "\n",
        "# Interest paid so far\n",
        "finalTrain['int_paid'] = finalTrain['total_rec_int'] + finalTrain['total_rec_late_fee']\n",
        "finalTest['int_paid'] = finalTest['total_rec_int'] + finalTest['total_rec_late_fee']\n",
        "\n",
        "\n",
        "# Calculating EMIs paid (in terms of percent)\n",
        "finalTrain['emi_paid_progress_perc'] = ((finalTrain['last_week_pay']/(finalTrain['term']/12*52+1))*100)\n",
        "finalTest['emi_paid_progress_perc'] = ((finalTest['last_week_pay']/(finalTest['term']/12*52+1))*100)\n",
        "\n",
        "\n",
        "# Calculating total repayments received so far, in terms of EMI or recoveries after charge off\n",
        "finalTrain['total_repayment_progress'] = ((finalTrain['last_week_pay']/(finalTrain['term']/12*52+1))*100) + ((finalTrain['recoveries']/finalTrain['funded_amnt_inv']) * 100)\n",
        "finalTest['total_repayment_progress'] = ((finalTest['last_week_pay']/(finalTest['term']/12*52+1))*100) + ((finalTest['recoveries']/finalTest['funded_amnt_inv']) * 100)"
      ],
      "execution_count": null,
      "outputs": []
    },
    {
      "cell_type": "code",
      "metadata": {
        "id": "_yCfQ3-BMWgu",
        "colab_type": "code",
        "colab": {}
      },
      "source": [
        "train_target = dfTrain[\"loan_status\"]"
      ],
      "execution_count": null,
      "outputs": []
    },
    {
      "cell_type": "code",
      "metadata": {
        "id": "80-nO7UVKvt7",
        "colab_type": "code",
        "colab": {}
      },
      "source": [
        "from sklearn.model_selection import train_test_split\n",
        "\n",
        "# Split train and cross validation sets\n",
        "X_train, X_test, y_train, y_test = train_test_split(np.array(finalTrain), np.array(train_target), test_size=0.30)\n",
        "eval_set=[(X_test, y_test)]"
      ],
      "execution_count": null,
      "outputs": []
    },
    {
      "cell_type": "code",
      "metadata": {
        "id": "qiL1hf_9NXjn",
        "colab_type": "code",
        "colab": {}
      },
      "source": [
        "import xgboost\n",
        "from sklearn.metrics import accuracy_score\n",
        "from sklearn.metrics import auc\n",
        "from sklearn.metrics import roc_auc_score"
      ],
      "execution_count": null,
      "outputs": []
    },
    {
      "cell_type": "code",
      "metadata": {
        "id": "s3nHquySMxL6",
        "colab_type": "code",
        "colab": {}
      },
      "source": [
        "clf = xgboost.sklearn.XGBClassifier(\n",
        "    objective=\"binary:logistic\", \n",
        "    learning_rate=0.05, \n",
        "    seed=9616, \n",
        "    max_depth=20, \n",
        "    gamma=10, \n",
        "    n_estimators=500)\n",
        "\n",
        "clf.fit(X_train, y_train, early_stopping_rounds=20, eval_metric=\"auc\", eval_set=eval_set, verbose=True)"
      ],
      "execution_count": null,
      "outputs": []
    },
    {
      "cell_type": "code",
      "metadata": {
        "id": "DeXTydXMNcoY",
        "colab_type": "code",
        "colab": {}
      },
      "source": [
        "y_pred = clf.predict(X_test)\n",
        "\n",
        "accuracy = accuracy_score(np.array(y_test).flatten(), y_pred)\n",
        "print(\"Accuracy: %.10f%%\" % (accuracy * 100.0))\n",
        "\n",
        "accuracy_per_roc_auc = roc_auc_score(np.array(y_test).flatten(), y_pred)\n",
        "print(\"ROC-AUC: %.10f%%\" % (accuracy_per_roc_auc * 100))"
      ],
      "execution_count": null,
      "outputs": []
    },
    {
      "cell_type": "code",
      "metadata": {
        "id": "gdCR3WB0OPeQ",
        "colab_type": "code",
        "colab": {}
      },
      "source": [
        "test_member_id = pd.DataFrame(dfTest['member_id'])"
      ],
      "execution_count": null,
      "outputs": []
    },
    {
      "cell_type": "code",
      "metadata": {
        "id": "myrbS3SJN9qf",
        "colab_type": "code",
        "colab": {}
      },
      "source": [
        "final_pred = pd.DataFrame(clf.predict_proba(np.array(finalTest)))\n",
        "dfSub = pd.concat([test_member_id, final_pred.iloc[:, 1:2]], axis=1)"
      ],
      "execution_count": null,
      "outputs": []
    },
    {
      "cell_type": "code",
      "metadata": {
        "id": "rIXM3sSQPodE",
        "colab_type": "code",
        "colab": {}
      },
      "source": [
        "submission_file_name = \"submission_xgboost\""
      ],
      "execution_count": null,
      "outputs": []
    },
    {
      "cell_type": "code",
      "metadata": {
        "id": "veRTDV95OYrt",
        "colab_type": "code",
        "colab": {}
      },
      "source": [
        "dfSub.rename(columns={1:'loan_status'}, inplace=True)\n",
        "dfSub.to_csv((('%s.csv') % (submission_file_name)), index=False)"
      ],
      "execution_count": null,
      "outputs": []
    },
    {
      "cell_type": "markdown",
      "metadata": {
        "id": "hUNlKsQZP_z1",
        "colab_type": "text"
      },
      "source": [
        "### Randomforest Classifier"
      ]
    },
    {
      "cell_type": "code",
      "metadata": {
        "id": "HQ-IJ8LkP2uz",
        "colab_type": "code",
        "colab": {}
      },
      "source": [
        "# # Random Forest Classification\n",
        "from sklearn.ensemble import RandomForestClassifier\n",
        "random = RandomForestClassifier(n_estimators = 10, criterion = 'entropy')\n",
        "random.fit(X_train, y_train)\n",
        "\n",
        "y_pred = random.predict(X_test)\n",
        "\n",
        "accuracy = accuracy_score(np.array(y_test).flatten(), y_pred)\n",
        "print(\"Accuracy: %.10f%%\" % (accuracy * 100.0))\n",
        "\n",
        "accuracy_per_roc_auc = roc_auc_score(np.array(y_test).flatten(), y_pred)\n",
        "print(\"ROC-AUC: %.10f%%\" % (accuracy_per_roc_auc * 100))\n",
        "\n",
        "final_pred = pd.DataFrame(random.predict_proba(np.array(finalTest)))\n",
        "dfSub = pd.concat([test_member_id, final_pred.iloc[:, 1:2]], axis=1)\n",
        "\n",
        "submission_file_name = \"submission_randomforest\"\n",
        "\n",
        "dfSub.rename(columns={1:'loan_status'}, inplace=True)\n",
        "dfSub.to_csv((('%s.csv') % (submission_file_name)), index=False)"
      ],
      "execution_count": null,
      "outputs": []
    },
    {
      "cell_type": "markdown",
      "metadata": {
        "id": "zStfMrmWRU0Q",
        "colab_type": "text"
      },
      "source": [
        "### Deep Neural Network"
      ]
    },
    {
      "cell_type": "code",
      "metadata": {
        "id": "h8Aj0LvnRUSH",
        "colab_type": "code",
        "colab": {}
      },
      "source": [
        "from keras.models import Sequential\n",
        "from keras.layers import Dense, Activation, Dropout\n",
        "from keras.layers.advanced_activations import PReLU"
      ],
      "execution_count": null,
      "outputs": []
    },
    {
      "cell_type": "code",
      "metadata": {
        "id": "TtYx911YR8VF",
        "colab_type": "code",
        "colab": {}
      },
      "source": [
        "model = Sequential()"
      ],
      "execution_count": null,
      "outputs": []
    },
    {
      "cell_type": "code",
      "metadata": {
        "id": "sWxbmM1tQ5hl",
        "colab_type": "code",
        "colab": {}
      },
      "source": [
        "model.add(Dense(units=40, input_dim=33))\n",
        "model.add(Activation('relu'))\n",
        "model.add(Dense(units=40))\n",
        "model.add(Activation('relu'))\n",
        "model.add(Dense(units=40))\n",
        "model.add(Activation('relu'))\n",
        "model.add(Dense(units=40))\n",
        "model.add(Activation('relu'))\n",
        "model.add(Dense(units=40))\n",
        "model.add(Activation('relu'))\n",
        "model.add(Dense(units=2))\n",
        "model.add(Activation('softmax'))\n",
        "\n",
        "model.compile(loss='categorical_crossentropy',\n",
        "              optimizer='rmsprop',\n",
        "              metrics=['accuracy'])"
      ],
      "execution_count": null,
      "outputs": []
    },
    {
      "cell_type": "code",
      "metadata": {
        "id": "bjIQXY8HUGCV",
        "colab_type": "code",
        "colab": {}
      },
      "source": [
        "model.fit(X_train, y_train, epochs=10, batch_size=64)"
      ],
      "execution_count": null,
      "outputs": []
    },
    {
      "cell_type": "code",
      "metadata": {
        "id": "3oUSri9XUaGQ",
        "colab_type": "code",
        "colab": {}
      },
      "source": [
        ""
      ],
      "execution_count": null,
      "outputs": []
    }
  ]
}